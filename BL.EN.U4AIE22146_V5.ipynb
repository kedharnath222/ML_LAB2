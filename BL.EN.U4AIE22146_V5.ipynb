{
  "cells": [
    {
      "cell_type": "code",
      "execution_count": 1,
      "metadata": {
        "colab": {
          "base_uri": "https://localhost:8080/"
        },
        "id": "HzJHh6fvfYVx",
        "outputId": "f944f3a0-815f-45bb-9611-1682331ef5b1"
      },
      "outputs": [
        {
          "name": "stdout",
          "output_type": "stream",
          "text": [
            "Enter the dimension of the vectors: 3\n",
            "Enter value for vector a at index 0: 1\n",
            "Enter value for vector a at index 1: 4\n",
            "Enter value for vector a at index 2: 2\n",
            "Enter value for vector b at index 0: 8\n",
            "Enter value for vector b at index 1: 6\n",
            "Enter value for vector b at index 2: 4\n",
            "Euclidean Distance: 7.54983443527075\n",
            "Manhattan Distance: 11.0\n"
          ]
        }
      ],
      "source": [
        "def euclidean_distance(vector_a, vector_b):\n",
        "\n",
        "    if len(vector_a) != len(vector_b):\n",
        "        raise ValueError(\"Vectors must have same dimensionality\")\n",
        "\n",
        "    sum_of_squared_diff = sum((a - b) ** 2 for a, b in zip(vector_a, vector_b))\n",
        "\n",
        "\n",
        "    return sum_of_squared_diff ** 0.5\n",
        "\n",
        "def manhattan_distance(vector_a, vector_b):\n",
        "    if len(vector_a) != len(vector_b):\n",
        "        raise ValueError(\"Vectors must have same dimensionality\")\n",
        "\n",
        "    sum_of_absolute_diff = sum(abs(a - b) for a, b in zip(vector_a, vector_b))\n",
        "\n",
        "    return sum_of_absolute_diff\n",
        "\n",
        "def main():\n",
        "    dimension = int(input(\"Enter the dimension of the vectors: \"))\n",
        "\n",
        "    vector_a = [float(input(f\"Enter value for vector a at index {i}: \")) for i in range(dimension)]\n",
        "    vector_b = [float(input(f\"Enter value for vector b at index {i}: \")) for i in range(dimension)]\n",
        "\n",
        "    euclidean_dist = euclidean_distance(vector_a, vector_b)\n",
        "    manhattan_dist = manhattan_distance(vector_a, vector_b)\n",
        "\n",
        "    print(\"Euclidean Distance:\", euclidean_dist)\n",
        "    print(\"Manhattan Distance:\", manhattan_dist)\n",
        "\n",
        "if __name__ == \"__main__\":\n",
        "    main()\n"
      ]
    },
    {
      "cell_type": "code",
      "execution_count": 2,
      "metadata": {
        "colab": {
          "base_uri": "https://localhost:8080/"
        },
        "id": "uXEB4XH3foQ-",
        "outputId": "9becc276-7512-4e19-e1b9-4db1ad601b90"
      },
      "outputs": [
        {
          "name": "stdout",
          "output_type": "stream",
          "text": [
            "Predictions: [0, 1]\n"
          ]
        }
      ],
      "source": [
        "from collections import Counter\n",
        "import numpy as np\n",
        "\n",
        "def euclidean_distance(point1, point2):\n",
        "    return np.sqrt(np.sum((point1 - point2)**2))\n",
        "\n",
        "def knn_classifier(X_train, y_train, X_test, k):\n",
        "    predictions = []\n",
        "    for test_point in X_test:\n",
        "        distances = [euclidean_distance(test_point, train_point) for train_point in X_train]\n",
        "        nearest_indices = np.argsort(distances)[:k]\n",
        "        nearest_labels = [y_train[i] for i in nearest_indices]\n",
        "        most_common_label = Counter(nearest_labels).most_common(1)[0][0]\n",
        "        predictions.append(most_common_label)\n",
        "    return predictions\n",
        "\n",
        "# Example usage:\n",
        "X_train = np.array([[1, 2], [2, 3], [3, 4], [4, 5], [5, 6]])\n",
        "y_train = np.array([0, 0, 1, 1, 1])\n",
        "X_test = np.array([[2.5, 3.5], [4.5, 5.5]])\n",
        "k = 3\n",
        "\n",
        "predictions = knn_classifier(X_train, y_train, X_test, k)\n",
        "print(\"Predictions:\", predictions)\n"
      ]
    },
    {
      "cell_type": "code",
      "execution_count": 3,
      "metadata": {
        "colab": {
          "base_uri": "https://localhost:8080/"
        },
        "id": "wLQyy2ZHjgI2",
        "outputId": "90c48ffa-6e6d-4bbf-d7ed-e64612942a21"
      },
      "outputs": [
        {
          "name": "stdout",
          "output_type": "stream",
          "text": [
            "Original data: ['apple', 'banana', 'apple', 'orange', 'banana', 'banana', 'orange']\n",
            "Encoded data: [0, 1, 0, 2, 1, 1, 2]\n"
          ]
        }
      ],
      "source": [
        "def label_encode_categorical(data):\n",
        "    labels = {}\n",
        "    encoded_data = []\n",
        "    label_counter = 0\n",
        "\n",
        "    for entry in data:\n",
        "        if entry not in labels:\n",
        "            labels[entry] = label_counter\n",
        "            label_counter += 1\n",
        "        encoded_data.append(labels[entry])\n",
        "\n",
        "    return encoded_data\n",
        "categorical_data = ['apple', 'banana', 'apple', 'orange', 'banana', 'banana', 'orange']\n",
        "\n",
        "encoded_data = label_encode_categorical(categorical_data)\n",
        "print(\"Original data:\", categorical_data)\n",
        "print(\"Encoded data:\", encoded_data)\n"
      ]
    },
    {
      "cell_type": "code",
      "execution_count": 5,
      "metadata": {
        "colab": {
          "base_uri": "https://localhost:8080/"
        },
        "id": "HGnc9B8qybND",
        "outputId": "f2b8fabc-f582-4692-dbd7-9be1e14bb19b"
      },
      "outputs": [
        {
          "name": "stdout",
          "output_type": "stream",
          "text": [
            "Original data: ['apple', 'banana', 'apple', 'orange', 'banana', 'banana', 'orange']\n",
            "Encoded data:\n",
            "[0, 1, 0]\n",
            "[1, 0, 0]\n",
            "[0, 1, 0]\n",
            "[0, 0, 1]\n",
            "[1, 0, 0]\n",
            "[1, 0, 0]\n",
            "[0, 0, 1]\n",
            "Categories: ['banana', 'apple', 'orange']\n"
          ]
        }
      ],
      "source": [
        "def one_hot_encode_categorical(data):\n",
        "    categories = list(set(data))  # Get unique categories\n",
        "    encoded_data = []\n",
        "\n",
        "    for entry in data:\n",
        "        one_hot_vector = [0] * len(categories)\n",
        "        index = categories.index(entry)\n",
        "        one_hot_vector[index] = 1\n",
        "        encoded_data.append(one_hot_vector)\n",
        "\n",
        "    return encoded_data, categories\n",
        "\n",
        "# Example usage:\n",
        "categorical_data = ['apple', 'banana', 'apple', 'orange', 'banana', 'banana', 'orange']\n",
        "\n",
        "encoded_data, categories = one_hot_encode_categorical(categorical_data)\n",
        "print(\"Original data:\", categorical_data)\n",
        "print(\"Encoded data:\")\n",
        "for entry in encoded_data:\n",
        "    print(entry)\n",
        "\n",
        "print(\"Categories:\", categories)\n"
      ]
    },
    {
      "cell_type": "code",
      "execution_count": null,
      "metadata": {
        "id": "cViMfYB3ydf0"
      },
      "outputs": [],
      "source": []
    }
  ],
  "metadata": {
    "colab": {
      "provenance": []
    },
    "kernelspec": {
      "display_name": "Python 3",
      "name": "python3"
    },
    "language_info": {
      "name": "python"
    }
  },
  "nbformat": 4,
  "nbformat_minor": 0
}
